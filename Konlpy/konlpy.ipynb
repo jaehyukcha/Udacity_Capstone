{
 "cells": [
  {
   "cell_type": "code",
   "execution_count": 2,
   "metadata": {},
   "outputs": [],
   "source": [
    "import json\n",
    "import psycopg2\n",
    "import pandas as pd\n",
    "from konlpy.tag import Okt\n",
    "from collections import Counter\n",
    "import numpy as np\n",
    "import matplotlib.pyplot as plt"
   ]
  },
  {
   "cell_type": "code",
   "execution_count": 5,
   "metadata": {},
   "outputs": [
    {
     "data": {
      "text/plain": [
       "<connection object at 0x000002EBA9042678; dsn: 'user=postgres password=xxx dbname=cssc host=cssc.hanyang.ac.kr port=5432', closed: 0>"
      ]
     },
     "execution_count": 5,
     "metadata": {},
     "output_type": "execute_result"
    }
   ],
   "source": [
    "dbconfig = json.loads(open(\"res/dbconfig.properties\").read())['cssc_jaunt']\n",
    "dbconfig.pop(\"drivername\")\n",
    "dbconfig['user'] = dbconfig['username']\n",
    "dbconfig.pop(\"username\")\n",
    "connection = psycopg2.connect(**dbconfig)\n",
    "connection"
   ]
  },
  {
   "cell_type": "code",
   "execution_count": 6,
   "metadata": {
    "scrolled": false
   },
   "outputs": [],
   "source": [
    "article_df = pd.read_sql(sql = \"SELECT \\\"title\\\" FROM article_entries WHERE \\\"aDate\\\" BETWEEN '2015-05-20' AND '2015-07-28 23:59:59'\", con = connection)\n",
    "article_df.to_csv(\"test.csv\",index = False, encoding = 'utf-8')"
   ]
  },
  {
   "cell_type": "code",
   "execution_count": 7,
   "metadata": {},
   "outputs": [],
   "source": [
    "def get_tags(text, ntags = 50):\n",
    "    spliter = Okt()\n",
    "    nouns = spliter.nouns(text)\n",
    "    count = Counter(nouns)\n",
    "    return_list = []\n",
    "    \n",
    "    for n, c in count.most_common(ntags):\n",
    "        temp = {'tag': n, 'count': c}\n",
    "        return_list.append(temp)\n",
    "\n",
    "    return return_list"
   ]
  },
  {
   "cell_type": "code",
   "execution_count": 8,
   "metadata": {},
   "outputs": [],
   "source": [
    "def main():\n",
    "    noun_count = 20\n",
    "    tags = get_tags(article_df.to_string(), noun_count)\n",
    "    \n",
    "    output_file_name = \"count.txt\"\n",
    "    open_output_file = open(output_file_name, 'w', -1, \"utf-8\")\n",
    "\n",
    "    for tag in tags:\n",
    "        noun = tag['tag']\n",
    "        count = tag['count']\n",
    "        open_output_file.write('{} {}\\n'.format(noun, count))\n",
    "        \n",
    "    open_output_file.close() \n",
    "\n",
    "if __name__ == '__main__':\n",
    "    main()"
   ]
  },
  {
   "cell_type": "code",
   "execution_count": null,
   "metadata": {},
   "outputs": [],
   "source": []
  }
 ],
 "metadata": {
  "kernelspec": {
   "display_name": "Python 3",
   "language": "python",
   "name": "python3"
  },
  "language_info": {
   "codemirror_mode": {
    "name": "ipython",
    "version": 3
   },
   "file_extension": ".py",
   "mimetype": "text/x-python",
   "name": "python",
   "nbconvert_exporter": "python",
   "pygments_lexer": "ipython3",
   "version": "3.7.1"
  }
 },
 "nbformat": 4,
 "nbformat_minor": 2
}
